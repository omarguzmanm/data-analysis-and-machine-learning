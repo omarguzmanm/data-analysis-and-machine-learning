{
 "cells": [
  {
   "metadata": {},
   "cell_type": "markdown",
   "source": "# T1 - Aproximación del Valor de Pi (Simulación de Montecarlo)",
   "id": "8d74abee258259fe"
  },
  {
   "cell_type": "code",
   "id": "initial_id",
   "metadata": {
    "collapsed": true,
    "ExecuteTime": {
     "end_time": "2025-10-01T06:55:01.811882Z",
     "start_time": "2025-10-01T06:55:01.809967Z"
    }
   },
   "source": [
    "import numpy as np\n",
    "import matplotlib.pyplot as plt\n",
    "import random\n",
    "import math"
   ],
   "outputs": [],
   "execution_count": 3
  },
  {
   "metadata": {
    "ExecuteTime": {
     "end_time": "2025-10-01T06:54:10.494270Z",
     "start_time": "2025-10-01T06:54:10.490407Z"
    }
   },
   "cell_type": "code",
   "source": [
    "def aproximar_pi(num_puntos: int) -> float:\n",
    "    \"\"\"\n",
    "    Aproxima el valor de PI usando la simulación de Montecarlo.\n",
    "\n",
    "    Esta función simula el lanzamiento de \"dardos\" a un tablero cuadrado\n",
    "    de 1x1 que contiene un cuarto de círculo con radio 1. La proporción\n",
    "    de dardos que caen dentro del círculo se utiliza para estimar PI.\n",
    "\n",
    "    Args:\n",
    "        num_puntos (int): El número total de puntos aleatorios (dardos) a generar.\n",
    "                          Un número mayor aumenta la precisión.\n",
    "\n",
    "    Returns:\n",
    "        float: El valor aproximado de PI.\n",
    "    \"\"\"\n",
    "    puntos_dentro_circulo = 0\n",
    "\n",
    "    # Bucle para generar y evaluar cada punto\n",
    "    for _ in range(num_puntos):\n",
    "        # Genera un punto aleatorio (x, y) donde 0 <= x < 1 y 0 <= y < 1\n",
    "        x = random.random()\n",
    "        y = random.random()\n",
    "\n",
    "        # Calcula la distancia del punto al origen (0,0)\n",
    "        # Se usa x^2 + y^2 <= 1^2 para evitar la costosa operación de la raíz cuadrada\n",
    "        distancia_cuadrada = x**2 + y**2\n",
    "\n",
    "        # Verifica si el punto está dentro del cuarto de círculo\n",
    "        if distancia_cuadrada <= 1:\n",
    "            puntos_dentro_circulo += 1\n",
    "\n",
    "    # Calcula la aproximación de PI usando la fórmula derivada de la relación de áreas\n",
    "    # pi ≈ 4 * (puntos dentro / puntos totales)\n",
    "    return 4 * puntos_dentro_circulo / num_puntos\n"
   ],
   "id": "943010b291c0fce7",
   "outputs": [],
   "execution_count": 2
  },
  {
   "metadata": {
    "ExecuteTime": {
     "end_time": "2025-10-01T06:55:16.247123Z",
     "start_time": "2025-10-01T06:55:14.673027Z"
    }
   },
   "cell_type": "code",
   "source": [
    "# --- Ejecución de la simulación ---\n",
    "\n",
    "# Define el número de \"dardos\" a lanzar.\n",
    "# Puedes cambiar este valor para ver cómo afecta la precisión.\n",
    "total_de_puntos = 10_000_000 # Usamos 10 millones para una buena aproximación\n",
    "\n",
    "# Llama a la función para  obtenerel valor estimado\n",
    "valor_pi_aproximado = aproximar_pi(total_de_puntos)\n",
    "\n",
    "# Imprime los resultados de forma clara\n",
    "print(\"--- Simulación de Montecarlo para PI ---\")\n",
    "print(f\"Número de puntos simulados: {total_de_puntos:,}\")\n",
    "print(f\"Valor real de PI:           {math.pi}\")\n",
    "print(f\"Valor aproximado de PI:     {valor_pi_aproximado}\")\n",
    "print(f\"Diferencia:                 {abs(math.pi - valor_pi_aproximado):.8f}\")"
   ],
   "id": "94e003f1cffd2a95",
   "outputs": [
    {
     "name": "stdout",
     "output_type": "stream",
     "text": [
      "--- Simulación de Montecarlo para PI ---\n",
      "Número de puntos simulados: 10,000,000\n",
      "Valor real de PI:           3.141592653589793\n",
      "Valor aproximado de PI:     3.1409956\n",
      "Diferencia:                 0.00059705\n"
     ]
    }
   ],
   "execution_count": 4
  }
 ],
 "metadata": {
  "kernelspec": {
   "display_name": "Python 3",
   "language": "python",
   "name": "python3"
  },
  "language_info": {
   "codemirror_mode": {
    "name": "ipython",
    "version": 2
   },
   "file_extension": ".py",
   "mimetype": "text/x-python",
   "name": "python",
   "nbconvert_exporter": "python",
   "pygments_lexer": "ipython2",
   "version": "2.7.6"
  }
 },
 "nbformat": 4,
 "nbformat_minor": 5
}
