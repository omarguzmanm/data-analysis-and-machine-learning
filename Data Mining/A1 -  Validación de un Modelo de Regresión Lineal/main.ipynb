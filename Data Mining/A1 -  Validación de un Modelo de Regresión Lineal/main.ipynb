{
 "cells": [
  {
   "metadata": {},
   "cell_type": "markdown",
   "source": "# A1 -  Validación de un Modelo de Regresión Lineal",
   "id": "7698e52703ce2b0c"
  },
  {
   "metadata": {
    "ExecuteTime": {
     "end_time": "2025-10-05T22:17:51.717901Z",
     "start_time": "2025-10-05T22:17:51.716042Z"
    }
   },
   "cell_type": "code",
   "source": [
    "import pandas as pd\n",
    "import numpy as np\n",
    "import statsmodels.formula.api as smf"
   ],
   "id": "bed556fb89e0577b",
   "outputs": [],
   "execution_count": 10
  },
  {
   "metadata": {
    "ExecuteTime": {
     "end_time": "2025-10-05T22:17:51.731063Z",
     "start_time": "2025-10-05T22:17:51.724598Z"
    }
   },
   "cell_type": "code",
   "source": [
    "# Carguemos el dataset de \"Advertising.csv\"\n",
    "ads = pd.read_csv(\"/home/omarg/Master/Data Analisys and Machine Learning/Notes/Mineria de datos/ads/Advertising.csv\")\n",
    "ads.head() # Mostrar el encabezado del dataframe cargado"
   ],
   "id": "e1eaba299bb55e3",
   "outputs": [
    {
     "data": {
      "text/plain": [
       "      TV  Radio  Newspaper  Sales\n",
       "0  230.1   37.8       69.2   22.1\n",
       "1   44.5   39.3       45.1   10.4\n",
       "2   17.2   45.9       69.3    9.3\n",
       "3  151.5   41.3       58.5   18.5\n",
       "4  180.8   10.8       58.4   12.9"
      ],
      "text/html": [
       "<div>\n",
       "<style scoped>\n",
       "    .dataframe tbody tr th:only-of-type {\n",
       "        vertical-align: middle;\n",
       "    }\n",
       "\n",
       "    .dataframe tbody tr th {\n",
       "        vertical-align: top;\n",
       "    }\n",
       "\n",
       "    .dataframe thead th {\n",
       "        text-align: right;\n",
       "    }\n",
       "</style>\n",
       "<table border=\"1\" class=\"dataframe\">\n",
       "  <thead>\n",
       "    <tr style=\"text-align: right;\">\n",
       "      <th></th>\n",
       "      <th>TV</th>\n",
       "      <th>Radio</th>\n",
       "      <th>Newspaper</th>\n",
       "      <th>Sales</th>\n",
       "    </tr>\n",
       "  </thead>\n",
       "  <tbody>\n",
       "    <tr>\n",
       "      <th>0</th>\n",
       "      <td>230.1</td>\n",
       "      <td>37.8</td>\n",
       "      <td>69.2</td>\n",
       "      <td>22.1</td>\n",
       "    </tr>\n",
       "    <tr>\n",
       "      <th>1</th>\n",
       "      <td>44.5</td>\n",
       "      <td>39.3</td>\n",
       "      <td>45.1</td>\n",
       "      <td>10.4</td>\n",
       "    </tr>\n",
       "    <tr>\n",
       "      <th>2</th>\n",
       "      <td>17.2</td>\n",
       "      <td>45.9</td>\n",
       "      <td>69.3</td>\n",
       "      <td>9.3</td>\n",
       "    </tr>\n",
       "    <tr>\n",
       "      <th>3</th>\n",
       "      <td>151.5</td>\n",
       "      <td>41.3</td>\n",
       "      <td>58.5</td>\n",
       "      <td>18.5</td>\n",
       "    </tr>\n",
       "    <tr>\n",
       "      <th>4</th>\n",
       "      <td>180.8</td>\n",
       "      <td>10.8</td>\n",
       "      <td>58.4</td>\n",
       "      <td>12.9</td>\n",
       "    </tr>\n",
       "  </tbody>\n",
       "</table>\n",
       "</div>"
      ]
     },
     "execution_count": 11,
     "metadata": {},
     "output_type": "execute_result"
    }
   ],
   "execution_count": 11
  },
  {
   "metadata": {},
   "cell_type": "markdown",
   "source": "### Conjunto de Entrenamiento (Training) y Prueba (Testing)",
   "id": "246305df9a87b285"
  },
  {
   "metadata": {
    "ExecuteTime": {
     "end_time": "2025-10-05T22:34:55.809547Z",
     "start_time": "2025-10-05T22:34:55.806625Z"
    }
   },
   "cell_type": "code",
   "source": [
    "# Se divide el dataset en conjunto de entrenamiento (70%) y conjunto de testing (30%)\n",
    "ads_shuffled = ads.sample(frac=1, random_state=42)\n",
    "\n",
    "split_point = int(len(ads_shuffled) * 0.7)\n",
    "\n",
    "train_data = ads_shuffled[:split_point]\n",
    "test_data = ads_shuffled[split_point:]\n",
    "\n",
    "X_test = test_data[['TV', 'Radio', 'Newspaper']]\n",
    "y_test = test_data['Sales']"
   ],
   "id": "94fb8a104dc54299",
   "outputs": [],
   "execution_count": 28
  },
  {
   "metadata": {
    "ExecuteTime": {
     "end_time": "2025-10-05T22:17:51.822727Z",
     "start_time": "2025-10-05T22:17:51.820685Z"
    }
   },
   "cell_type": "code",
   "source": [
    "print(f\"Tamaño del conjunto de entrenamiento: {len(train_data)} observaciones.\")\n",
    "print(f\"Tamaño del conjunto de testing: {len(test_data)} observaciones.\\n\")"
   ],
   "id": "a4a847e322820f1d",
   "outputs": [
    {
     "name": "stdout",
     "output_type": "stream",
     "text": [
      "Tamaño del conjunto de entrenamiento: 140 observaciones.\n",
      "Tamaño del conjunto de testing: 60 observaciones.\n",
      "\n"
     ]
    }
   ],
   "execution_count": 13
  },
  {
   "metadata": {},
   "cell_type": "markdown",
   "source": "### Modelo de regresión utilizando los datos de entrenamiento",
   "id": "cbdfb8a7a85937a3"
  },
  {
   "metadata": {
    "ExecuteTime": {
     "end_time": "2025-10-05T22:31:59.913998Z",
     "start_time": "2025-10-05T22:31:59.905697Z"
    }
   },
   "cell_type": "code",
   "source": [
    "lm = smf.ols(formula=\"Sales~TV+Radio+Newspaper\", data=train_data).fit()\n",
    "lm.params"
   ],
   "id": "278599d39fb05e46",
   "outputs": [
    {
     "data": {
      "text/plain": [
       "Intercept    2.956094\n",
       "TV           0.046793\n",
       "Radio        0.187063\n",
       "Newspaper   -0.004805\n",
       "dtype: float64"
      ]
     },
     "execution_count": 21,
     "metadata": {},
     "output_type": "execute_result"
    }
   ],
   "execution_count": 21
  },
  {
   "metadata": {
    "ExecuteTime": {
     "end_time": "2025-10-05T22:32:16.636320Z",
     "start_time": "2025-10-05T22:32:16.633929Z"
    }
   },
   "cell_type": "code",
   "source": [
    "r_squared = lm.rsquared\n",
    "print(f\"Coeficiente de Determinación (R²): {r_squared:.4f}\")"
   ],
   "id": "3e1bd78827df3049",
   "outputs": [
    {
     "name": "stdout",
     "output_type": "stream",
     "text": [
      "Coeficiente de Determinación (R²): 0.9088\n"
     ]
    }
   ],
   "execution_count": 22
  },
  {
   "metadata": {},
   "cell_type": "markdown",
   "source": "### Validar el modelo de regresión mediante los datos de prueba",
   "id": "4f4837c61243a44c"
  },
  {
   "metadata": {
    "ExecuteTime": {
     "end_time": "2025-10-05T22:35:16.872823Z",
     "start_time": "2025-10-05T22:35:16.866649Z"
    }
   },
   "cell_type": "code",
   "source": [
    "sales_pred = lm.predict(X_test)\n",
    "print(sales_pred)"
   ],
   "id": "dac35d02924ad8d6",
   "outputs": [
    {
     "name": "stdout",
     "output_type": "stream",
     "text": [
      "180    10.730288\n",
      "178    16.219957\n",
      "185    20.890935\n",
      "49      8.098332\n",
      "80     11.418480\n",
      "34      7.660472\n",
      "7      12.191257\n",
      "110    14.784288\n",
      "91      4.416393\n",
      "83     14.309958\n",
      "176    20.131127\n",
      "181    14.058749\n",
      "89     16.788559\n",
      "8       3.746538\n",
      "13      8.905451\n",
      "59     18.288958\n",
      "171    14.335332\n",
      "131    15.701346\n",
      "17     23.263099\n",
      "72     10.290483\n",
      "175    24.859489\n",
      "134    11.588173\n",
      "167    13.512303\n",
      "183    24.112349\n",
      "63     13.258395\n",
      "54     20.559513\n",
      "107     7.130784\n",
      "50     12.718888\n",
      "196     8.241641\n",
      "58     21.917146\n",
      "48     16.303190\n",
      "88     11.505304\n",
      "21     14.905748\n",
      "57     12.841088\n",
      "160    14.266138\n",
      "192     4.376049\n",
      "129     7.782595\n",
      "37     15.472830\n",
      "157    10.092038\n",
      "193    18.600443\n",
      "1      12.173241\n",
      "52     20.692257\n",
      "149     9.774968\n",
      "130    10.354746\n",
      "151     9.955321\n",
      "103    14.879889\n",
      "99     16.862432\n",
      "116    12.021612\n",
      "87     15.427120\n",
      "74     17.480430\n",
      "121     7.652896\n",
      "199    15.383582\n",
      "20     18.100650\n",
      "188    18.921159\n",
      "71     10.616601\n",
      "106     6.040896\n",
      "14     18.439801\n",
      "92     19.125954\n",
      "179    12.491003\n",
      "102    17.853875\n",
      "dtype: float64\n"
     ]
    }
   ],
   "execution_count": 29
  },
  {
   "metadata": {
    "ExecuteTime": {
     "end_time": "2025-10-05T22:41:31.870397Z",
     "start_time": "2025-10-05T22:41:31.867452Z"
    }
   },
   "cell_type": "code",
   "source": [
    "# Cálculo del RSE resultante de las predicciones\n",
    "rest = y_test - sales_pred\n",
    "\n",
    "ssd = np.sum(rest**2)\n",
    "rse = np.sqrt(ssd / (len(y_test) - len(X_test.columns) - 1))\n",
    "\n",
    "print(f\"SSD: {ssd:.4f}\")\n",
    "print(f\"RSE: {rse:.4f}\")"
   ],
   "id": "30c4df10c87f3e8f",
   "outputs": [
    {
     "name": "stdout",
     "output_type": "stream",
     "text": [
      "SSD: 212.4255\n",
      "RSE: 1.9476\n"
     ]
    }
   ],
   "execution_count": 33
  },
  {
   "metadata": {
    "ExecuteTime": {
     "end_time": "2025-10-05T22:17:52.068004Z",
     "start_time": "2025-10-05T22:17:52.065580Z"
    }
   },
   "cell_type": "code",
   "source": [
    "# Número de observaciones (n) y número de predictores (p)\n",
    "n = len(X_test)\n",
    "p = len(X_test.columns)\n",
    "n, p"
   ],
   "id": "eb2cbe9f50aa4f7a",
   "outputs": [
    {
     "data": {
      "text/plain": [
       "(60, 3)"
      ]
     },
     "execution_count": 18,
     "metadata": {},
     "output_type": "execute_result"
    }
   ],
   "execution_count": 18
  },
  {
   "metadata": {
    "ExecuteTime": {
     "end_time": "2025-10-05T22:42:00.842927Z",
     "start_time": "2025-10-05T22:42:00.840871Z"
    }
   },
   "cell_type": "code",
   "source": [
    "# Cálculo del RSE%\n",
    "rse_ratio = (rse / np.mean(y_test))"
   ],
   "id": "dbe9aaab1df52885",
   "outputs": [],
   "execution_count": 34
  },
  {
   "metadata": {
    "ExecuteTime": {
     "end_time": "2025-10-05T22:42:03.067778Z",
     "start_time": "2025-10-05T22:42:03.065844Z"
    }
   },
   "cell_type": "code",
   "source": [
    "print(f\"Error Residual Estándar (RSE): {rse:.4f}\")\n",
    "print(f\"Error Residual Estándar (RSE%): {rse_ratio:.2f}%\")"
   ],
   "id": "c3365411533e82d1",
   "outputs": [
    {
     "name": "stdout",
     "output_type": "stream",
     "text": [
      "Error Residual Estándar (RSE): 1.9476\n",
      "Error Residual Estándar (RSE%): 0.14%\n"
     ]
    }
   ],
   "execution_count": 35
  }
 ],
 "metadata": {
  "kernelspec": {
   "display_name": "Python 3",
   "language": "python",
   "name": "python3"
  },
  "language_info": {
   "codemirror_mode": {
    "name": "ipython",
    "version": 2
   },
   "file_extension": ".py",
   "mimetype": "text/x-python",
   "name": "python",
   "nbconvert_exporter": "python",
   "pygments_lexer": "ipython2",
   "version": "2.7.6"
  }
 },
 "nbformat": 4,
 "nbformat_minor": 5
}
